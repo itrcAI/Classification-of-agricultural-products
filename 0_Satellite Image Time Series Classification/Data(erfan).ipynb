{
  "cells": [
    {
      "cell_type": "code",
      "execution_count": 1,
      "metadata": {
        "metadata": {}
      },
      "outputs": [
        {
          "name": "stderr",
          "output_type": "stream",
          "text": [
            "/home/mhbokaei/.local/lib/python3.8/site-packages/tqdm/auto.py:21: TqdmWarning: IProgress not found. Please update jupyter and ipywidgets. See https://ipywidgets.readthedocs.io/en/stable/user_install.html\n",
            "  from .autonotebook import tqdm as notebook_tqdm\n"
          ]
        }
      ],
      "source": [
        "import torch\n",
        "import torch.utils.data as data\n",
        "import torchnet as tnt\n",
        "import numpy as np\n",
        "import pandas as pd\n",
        "import datetime as dt\n",
        "\n",
        "from sklearn.model_selection import KFold\n",
        "from sklearn.metrics import confusion_matrix\n",
        "from torch import Tensor\n",
        "import os\n",
        "import json\n",
        "import pickle as pkl\n",
        "import argparse\n",
        "import pprint\n",
        "\n",
        "from models.stclassifier import PseTae\n",
        "from dataset import PixelSetData, PixelSetData_preloaded\n",
        "from learning.focal_loss import FocalLoss\n",
        "from learning.weight_init import weight_init\n",
        "from learning.metrics import mIou, confusion_matrix_analysis\n",
        "\n",
        "def parse(date):\n",
        "    d = str(date)\n",
        "    return int(d[:4]), int(d[4:6]), int(d[6:])\n",
        "\n",
        "\n",
        "def interval_days(date1, date2):\n",
        "    return abs((dt.datetime(*parse(date1)) - dt.datetime(*parse(date2))).days)\n",
        "\n",
        "\n",
        "def date_positions(dates):\n",
        "    pos = []\n",
        "    for d in dates:\n",
        "        pos.append(interval_days(d, dates[0]))\n",
        "    return pos"
      ]
    },
    {
      "cell_type": "code",
      "execution_count": 2,
      "metadata": {
        "metadata": {}
      },
      "outputs": [
        {
          "name": "stdout",
          "output_type": "stream",
          "text": [
            "len0: 9975\n",
            "sub_classes: None\n"
          ]
        }
      ],
      "source": [
        "# folder = \"/home/mhbokaei/shakouri/test/Satellite/dataset_folder100/\"\n",
        "# folder = \"/home/mhbokaei/shakouri/test/Satellite/dataset_folder10000/\"\n",
        "# folder = \"/home/mhbokaei/shakouri/test/Satellite/dataset_folder90000/\"\n",
        "# folder = \"/home/mhbokaei/shakouri/SatelliteImage_TimeSeries_Classification/dataset_folder\"\n",
        "\n",
        "folder = \"/home/mhbokaei/shakouri/test/Satellite/dataset_folder10000/\"\n",
        "data_folder = os.path.join(folder, 'DATA')\n",
        "meta_folder = os.path.join(folder, 'META')\n",
        "labels='label_19class'\n",
        "npixel = 64\n",
        "sub_classes=None\n",
        "#######################################################################################\n",
        "l = [f for f in os.listdir(data_folder) if f.endswith('.npy')]\n",
        "#print(\"l:\", l)\n",
        "pid = [int(f.split('.')[0]) for f in l]\n",
        "#print(\"1:\",pid, \"type:\", type(pid))\n",
        "pid = list(np.sort(pid))\n",
        "#print(\"2:\",pid, \"type:\", type(pid))\n",
        "pid = list(map(str, pid))\n",
        "#print(\"3:\",pid, \"type:\", type(pid))\n",
        "len0 = len(pid) ###er###\n",
        "print(\"len0:\", len0)\n",
        "\n",
        "######################################################################################\n",
        "print(\"sub_classes:\", sub_classes)\n",
        "if sub_classes is not None:\n",
        "  sub_indices = []\n",
        "  num_classes = len(sub_classes)\n",
        "  convert = dict((c, i) for i, c in enumerate(sub_classes))\n",
        "#print(\"convert:\", convert)\n",
        "#print(\"num_classes:\", num_classes)\n",
        "\n",
        "with open(os.path.join(folder, 'META', 'labels.json'), 'r') as file:\n",
        "  d = json.loads(file.read())\n",
        "  target = []\n",
        "  ii = []  ###er###\n",
        "  pp = []  ###er###\n",
        "  for i, p in enumerate(pid):\n",
        "    t = d[labels][p]\n",
        "    target.append(t)\n",
        "    ii.append(i)  ###er###\n",
        "    pp.append(p)  ###er###\n",
        "    if sub_classes is not None:\n",
        "      if t in sub_classes:\n",
        "        sub_indices.append(i)\n",
        "        target[-1] = convert[target[-1]]  ##change real class number to new with convert\n",
        "\n",
        "#print(\"file:\", file)\n",
        "#print(\"ii:\", ii)\n",
        "#print(\"pp:\", pp)\n",
        "#print(\"target:\", target)\n",
        "#print(\"sub_indices:\", sub_indices)\n",
        "if sub_classes is not None:\n",
        "  pid = list(np.array(pid)[sub_indices])\n",
        "  target = list(np.array(target)[sub_indices])\n",
        "  len1 = len(sub_indices)  ###er###\n",
        "#print(\"pid:\", pid)\n",
        "#print(\"target:\", target)\n",
        "#print(\"len1:\", len1)\n",
        "\n",
        "##########################################################################################\n",
        "##Date###\n",
        "with open(os.path.join(folder, 'META', 'dates.json'), 'r') as file:\n",
        "  d = json.loads(file.read())\n",
        "\n",
        "dates = [d[str(i)] for i in range(len(d))]\n",
        "date_positions = date_positions(dates)\n",
        "\n",
        "\n",
        "#print(\"d:\", d)\n",
        "#print(\"dates:\", dates)\n",
        "#print(\"date_positions:\", date_positions)\n",
        "\n",
        "#####extra_feature#####\n",
        "extra_feature = 'geomfeat'\n",
        "if extra_feature is not None:\n",
        "  with open(os.path.join(meta_folder, '{}.json'.format(extra_feature)), 'r') as file:\n",
        "    extra = json.loads(file.read())\n",
        "  if isinstance(extra[list(extra.keys())[0]], int):\n",
        "    for k in extra.keys():\n",
        "      extra[k] = [extra[k]]\n",
        "  df = pd.DataFrame(extra).transpose()\n",
        "  extra_m, extra_s = np.array(df.mean(axis=0)), np.array(df.std(axis=0))\n",
        "\n",
        "#print(\"df:\", df)\n",
        "#print(\"extra_m:\", extra_m)\n",
        "#print(\"extra_s:\", extra_s)\n"
      ]
    },
    {
      "cell_type": "code",
      "execution_count": null,
      "metadata": {
        "metadata": {}
      },
      "outputs": [],
      "source": [
        "for item in range(len0):\n",
        "  print(\"pid[item]: \", pid[item])\n",
        "  npixel = 64\n",
        "  x0 = np.load(os.path.join(folder, 'DATA', '{}.npy'.format(pid[item])))  ##it returns Sample\n",
        "  if x0.ndim != 3:\n",
        "    print(\"Bpixel: \", pid[item], \", x0.shape: \", x0.shape, \", x0.ndim: \", x0.ndim)\n",
        "  if x0.shape[0] != 24 or x0.shape[1] != 10:\n",
        "    print(\"Bpixel: \", pid[item], \", x0.shape[0]: \", x0.shape[0], \", x0.shape[1]: \", x0.shape[1])\n",
        "\n",
        "\n",
        "  "
      ]
    },
    {
      "cell_type": "code",
      "execution_count": null,
      "metadata": {
        "metadata": {}
      },
      "outputs": [],
      "source": [
        "#data = np.load(\"/home/mhbokaei/shakouri/SatelliteImage_TimeSeries_Classification/dataset_folder/DATA/170979.npy\")\n",
        "#print(data)"
      ]
    },
    {
      "cell_type": "code",
      "execution_count": null,
      "metadata": {
        "metadata": {}
      },
      "outputs": [],
      "source": [
        "Xqqq = np.array([[11, 22], [33, 44], [21, 12], [15, 18], [11, 22], [33, 44], [21, 12], [15, 18], [21, 12], [15, 18]])\n",
        "\n",
        "len(Xqqq)"
      ]
    },
    {
      "cell_type": "code",
      "execution_count": null,
      "metadata": {
        "metadata": {}
      },
      "outputs": [],
      "source": [
        "def __len__(self):\n",
        "    return self.len"
      ]
    },
    {
      "cell_type": "code",
      "execution_count": null,
      "metadata": {
        "metadata": {}
      },
      "outputs": [],
      "source": [
        "kf = KFold(n_splits=5, shuffle=False)\n",
        "indices_seqqq = list(kf.split(list(range(len(dt)))))"
      ]
    }
  ],
  "metadata": {
    "accelerator": "GPU",
    "colab": {
      "gpuType": "T4",
      "provenance": []
    },
    "kernelspec": {
      "display_name": "Python 3",
      "name": "python3"
    },
    "language_info": {
      "codemirror_mode": {
        "name": "ipython",
        "version": 3
      },
      "file_extension": ".py",
      "mimetype": "text/x-python",
      "name": "python",
      "nbconvert_exporter": "python",
      "pygments_lexer": "ipython3",
      "version": "3.8.10"
    }
  },
  "nbformat": 4,
  "nbformat_minor": 0
}
