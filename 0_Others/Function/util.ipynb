{
  "cells": [
    {
      "cell_type": "code",
      "execution_count": null,
      "metadata": {},
      "outputs": [],
      "source": [
        "import torch\n",
        "import torch.utils.data as data\n",
        "import torchnet as tnt\n",
        "import numpy as np\n",
        "import pandas as pd\n",
        "import datetime as dt\n",
        "\n",
        "from sklearn.model_selection import KFold\n",
        "from sklearn.metrics import confusion_matrix\n",
        "from torch import Tensor\n",
        "import os\n",
        "import json\n",
        "import pickle as pkl\n",
        "import argparse\n",
        "import pprint"
      ]
    },
    {
      "cell_type": "code",
      "execution_count": null,
      "metadata": {},
      "outputs": [],
      "source": [
        "def data_len(path: str) -> int:\n",
        "  \"\"\"\"\"\n",
        "  It returns the number of sample\n",
        "  path: path to the dataset befor DATA folder\n",
        "  \"\"\"\"\"\n",
        "  data_folder = os.path.join(path, 'DATA')\n",
        "  l = [f for f in os.listdir(data_folder) if f.endswith('.npy')]\n",
        "  pid = [int(f.split('.')[0]) for f in l]\n",
        "  pid = list(np.sort(pid))\n",
        "  pid = list(map(str, pid))\n",
        "  len_data = len(pid) \n",
        "  return len_data\n",
        "\n",
        "\n",
        "def data_check(path: str) -> None:\n",
        "  \"\"\"\"\"\n",
        "  It checks the shape of each sample (it must be 3 dimension),\n",
        "   dimension 0 must be 24 and dimension 1 must be 10 \n",
        "  path: path to the dataset befor DATA folder\n",
        "  \"\"\"\"\"\n",
        "  data_folder = os.path.join(path, 'DATA')\n",
        "  l = [f for f in os.listdir(data_folder) if f.endswith('.npy')]\n",
        "  pid = [int(f.split('.')[0]) for f in l]\n",
        "  pid = list(np.sort(pid))\n",
        "  pid = list(map(str, pid))\n",
        "  len_data = len(pid) \n",
        "  for item in range(len_data):\n",
        "    print(\"pid[item]: \", pid[item])\n",
        "    x0 = np.load(os.path.join(path, 'DATA', '{}.npy'.format(pid[item])))  ##it returns Sample\n",
        "    if x0.ndim != 3:\n",
        "      print(\"Bpixel: \", pid[item], \", x0.shape: \", x0.shape, \", x0.ndim: \", x0.ndim)\n",
        "    if x0.shape[0] != 24 or x0.shape[1] != 10:\n",
        "      print(\"Bpixel: \", pid[item], \", x0.shape[0]: \", x0.shape[0], \", x0.shape[1]: \", x0.shape[1])\n",
        "\n",
        "\n",
        "def get_all_npy(path : str) -> dict:\n",
        "    \"\"\"\"\"\n",
        "Load All data from the path  \n",
        "path: path to the source of data (get .npy in this path)\n",
        "    \"\"\"\"\"   \n",
        "    files = dict()\n",
        "    for root, dir , _files in os.walk(path):\n",
        "        for file in _files:\n",
        "            if file.endswith(\".npy\"):\n",
        "                name = file.split(\".npy\")[0]\n",
        "                files[name] = os.path.join(root, file) \n",
        "    return files\n",
        "\n",
        "def elminate_date(npy_files : list,\n",
        "                 list_dates : list) -> np.array:\n",
        "    \"\"\"\"\"\n",
        "It takes the list of data and then zeros out the required dates\n",
        "npy_files: Source data which comes from def get_all_npy \n",
        "list_dates:  list of dates which turns to zeros\n",
        "    \"\"\"\"\"\n",
        "    files_result = {}\n",
        "    for name , npy_file in npy_files.items():\n",
        "        data = np.load(npy_file)\n",
        "        for date in list_dates:\n",
        "            matrix_date = data[date]\n",
        "            data[date] = np.zeros(matrix_date.shape)\n",
        "        files_result[name] = data\n",
        "    return files_result\n",
        "\n",
        "\n",
        "def zero_pad(list_dates: list,\n",
        "             path_source: str,\n",
        "             path_Rsave: str) -> None:\n",
        "    \"\"\"\"\"\n",
        "For zero padding of specific dates with save the result\n",
        "list_dates:  list of dates which turns to zeros\n",
        "path_source:  path to the source of data (get .npy in this path)\n",
        "path_Rsave: path to create and save results (save .npy in this path)\n",
        "    \"\"\"\"\"\n",
        "    os.makedirs(path_Rsave, exist_ok=True)\n",
        "    npy_files = get_all_npy(path_source)\n",
        "    x = elminate_date(npy_files, list_dates)\n",
        "    for file in x:\n",
        "        path = os.path.join(path_Rsave, '{}.npy'.format(file))\n",
        "        np.save(path, x[file])\n"
      ]
    },
    {
      "cell_type": "code",
      "execution_count": null,
      "metadata": {},
      "outputs": [],
      "source": [
        "data_len(\"/home/mhbokaei/shakouri/test/Satellite/Alldata/dataset_folder100\")"
      ]
    },
    {
      "cell_type": "code",
      "execution_count": null,
      "metadata": {},
      "outputs": [],
      "source": [
        "data_check(\"/home/mhbokaei/shakouri/test/Satellite/Alldata/dataset_folder100\")"
      ]
    },
    {
      "cell_type": "code",
      "execution_count": null,
      "metadata": {},
      "outputs": [],
      "source": [
        "list =[2]\n",
        "source = \"/home/mhbokaei/shakouri/test/RStest/dataset_folder/DATA\"\n",
        "save = \"/home/mhbokaei/shakouri/test/RStest/dataset_folder/DATA_err\"\n",
        "zero_pad(list,source,save)\n",
        "data1 = np.load(\"/home/mhbokaei/shakouri/test/RStest/dataset_folder/DATA_err/5.npy\")\n",
        "print(\"data1.shape: \",data1.shape)\n",
        "print(\"data1[15]: \",data1[2])\n"
      ]
    }
  ],
  "metadata": {
    "accelerator": "GPU",
    "colab": {
      "gpuType": "T4",
      "provenance": []
    },
    "kernelspec": {
      "display_name": "Python 3",
      "name": "python3"
    },
    "language_info": {
      "codemirror_mode": {
        "name": "ipython",
        "version": 3
      },
      "file_extension": ".py",
      "mimetype": "text/x-python",
      "name": "python",
      "nbconvert_exporter": "python",
      "pygments_lexer": "ipython3",
      "version": "3.8.10"
    }
  },
  "nbformat": 4,
  "nbformat_minor": 0
}
