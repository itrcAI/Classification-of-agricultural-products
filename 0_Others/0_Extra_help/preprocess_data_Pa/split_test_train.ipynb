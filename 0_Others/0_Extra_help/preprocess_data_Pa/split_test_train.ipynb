{
 "cells": [
  {
   "cell_type": "code",
   "execution_count": null,
   "id": "89a1a467-4584-44ae-ac7b-e35e90f4e3dc",
   "metadata": {},
   "outputs": [],
   "source": [
    "import random\n",
    "\n",
    "from util import get_all_npy\n",
    "from util import copy_paste\n",
    "from util import create_folder"
   ]
  },
  {
   "cell_type": "code",
   "execution_count": null,
   "id": "bfcd7c99",
   "metadata": {},
   "outputs": [],
   "source": [
    "def split_test_train(path_file_npy : str,\n",
    "                     path_to_save : str,\n",
    "                     test_size : int = 0.2 ) -> None:\n",
    "    \n",
    "    npy_files = list(get_all_npy(path_file_npy).values())\n",
    "    number_test = int(\n",
    "            len(npy_files) * test_size)\n",
    "    \n",
    "    \n",
    "    test_data = random.sample(npy_files, number_test)\n",
    "    \n",
    "    \n",
    "        \n",
    "    folder_split = path_to_save + \"/DATA_split\"\n",
    "    create_folder(folder_split)\n",
    "    \n",
    "            \n",
    "    folder_train = folder_split + \"/train\"\n",
    "    create_folder(folder_train)\n",
    "    \n",
    "    for train_data in npy_files:\n",
    "        if train_data not in test_data:\n",
    "            copy_paste(train_data, folder_train)\n",
    "\n",
    "\n",
    "    folder_test = folder_split + \"/test\"\n",
    "    create_folder(folder_test)\n",
    "    \n",
    "    for _test_data in test_data:\n",
    "        copy_paste(_test_data, folder_test)\n",
    "    \n",
    "    \n",
    "    print(\"test / train saved in path ...\")\n",
    "\n"
   ]
  },
  {
   "cell_type": "code",
   "execution_count": null,
   "id": "26a1959f",
   "metadata": {},
   "outputs": [],
   "source": [
    "split_test_train(\"/home/mhbokaei/shakouri/SatelliteImage_TimeSeries_Classification/dataset_folder/DATA\", \"/home/mhbokaei/shakouri/test/Satellite/dataset_folder_train\", 0.2)\n"
   ]
  },
  {
   "cell_type": "code",
   "execution_count": null,
   "id": "6bd78c74",
   "metadata": {},
   "outputs": [],
   "source": []
  }
 ],
 "metadata": {
  "kernelspec": {
   "display_name": "Python 3 (ipykernel)",
   "language": "python",
   "name": "python3"
  },
  "language_info": {
   "codemirror_mode": {
    "name": "ipython",
    "version": 3
   },
   "file_extension": ".py",
   "mimetype": "text/x-python",
   "name": "python",
   "nbconvert_exporter": "python",
   "pygments_lexer": "ipython3",
   "version": "3.8.10"
  }
 },
 "nbformat": 4,
 "nbformat_minor": 5
}
