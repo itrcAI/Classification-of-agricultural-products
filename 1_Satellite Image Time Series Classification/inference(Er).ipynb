{
  "cells": [
    {
      "cell_type": "code",
      "execution_count": 1,
      "metadata": {
        "metadata": {}
      },
      "outputs": [
        {
          "name": "stderr",
          "output_type": "stream",
          "text": [
            "/home/mhbokaei/.local/lib/python3.8/site-packages/tqdm/auto.py:21: TqdmWarning: IProgress not found. Please update jupyter and ipywidgets. See https://ipywidgets.readthedocs.io/en/stable/user_install.html\n",
            "  from .autonotebook import tqdm as notebook_tqdm\n"
          ]
        }
      ],
      "source": [
        "import torch\n",
        "import torch.utils.data as data\n",
        "import numpy as np\n",
        "import pandas as pd\n",
        "from sklearn.metrics import confusion_matrix, ConfusionMatrixDisplay\n",
        "import matplotlib.pyplot as plt\n",
        "import json\n",
        "import os\n",
        "import pickle as pkl\n",
        "import argparse\n",
        "import pprint\n",
        "from tqdm import tqdm\n",
        "\n",
        "from models.stclassifier import PseTae_pretrained\n",
        "from dataset import PixelSetData"
      ]
    },
    {
      "cell_type": "code",
      "execution_count": 2,
      "metadata": {},
      "outputs": [
        {
          "data": {
            "text/plain": [
              "'1.12.1+cu116'"
            ]
          },
          "execution_count": 2,
          "metadata": {},
          "output_type": "execute_result"
        }
      ],
      "source": [
        "torch.__version__\n"
      ]
    },
    {
      "cell_type": "code",
      "execution_count": 3,
      "metadata": {},
      "outputs": [],
      "source": [
        "def prepare_model_and_loader(args):\n",
        "    mean_std = pkl.load(open(args['dataset_folder'] + '/S2-2017-T31TFM-meanstd.pkl', 'rb'))\n",
        "    extra = 'geomfeat' if args['geomfeat'] else None\n",
        "    dt = PixelSetData(args['dataset_folder'], labels='label_19class', npixel=args['npixel'],\n",
        "                      sub_classes=None,\n",
        "                      norm=mean_std,\n",
        "                      extra_feature=extra, return_id=True)\n",
        "    dl = data.DataLoader(dt, batch_size=args['batch_size'], num_workers=args['num_workers'])\n",
        "\n",
        "    model_config = dict(input_dim=args['input_dim'], mlp1=args['mlp1'], pooling=args['pooling'],\n",
        "                        mlp2=args['mlp2'], n_head=args['n_head'], d_k=args['d_k'], mlp3=args['mlp3'],\n",
        "                        dropout=args['dropout'], T=args['T'], len_max_seq=args['lms'],\n",
        "                        positions=dt.date_positions if args['positions'] == 'bespoke' else None,\n",
        "                        mlp4=args['mlp4'])\n",
        "\n",
        "    if args['geomfeat']:\n",
        "        model_config.update(with_extra=True, extra_size=4)\n",
        "    else:\n",
        "        model_config.update(with_extra=False, extra_size=None)\n",
        "\n",
        "    model = PseTae_pretrained(args['weight_dir'], model_config, device=args['device'], fold=args['fold'])\n",
        "\n",
        "    return model, dl\n",
        "\n",
        "\n",
        "def recursive_todevice(x, device):\n",
        "    if isinstance(x, torch.Tensor):\n",
        "        return x.to(device)\n",
        "    else:\n",
        "        return [recursive_todevice(c, device) for c in x]\n",
        "\n",
        "\n",
        "def predict(model, loader, args):\n",
        "    record = []\n",
        "    device = torch.device(args['device'])\n",
        "\n",
        "    for (x, y, ids) in tqdm(loader):\n",
        "        y_true = (list(map(int, y)))\n",
        "        ids = list(ids)\n",
        "\n",
        "        x = recursive_todevice(x, device)\n",
        "        with torch.no_grad():\n",
        "            prediction = model(x)\n",
        "        y_p = list(prediction.argmax(dim=1).cpu().numpy())\n",
        "\n",
        "        record.append(np.stack([ids, y_true, y_p], axis=1))\n",
        "\n",
        "    record = np.concatenate(record, axis=0)\n",
        "\n",
        "    os.makedirs(args['output_dir'], exist_ok=True)\n",
        "    np.save(os.path.join(args['output_dir'], 'Predictions_id_ytrue_y_pred.npy'), record)\n",
        "\n",
        "\n",
        "def overall_performance(args):\n",
        "\n",
        "    data =np.load(os.path.join(args['output_dir'], 'Predictions_id_ytrue_y_pred.npy'))\n",
        "    data_num=data.shape[0]\n",
        "\n",
        "    y_true=[]\n",
        "    y_pred=[]\n",
        "    for i in range(0, data_num):\n",
        "        y_true1 = data[i][1]\n",
        "        y_pred1 = data[i][2]\n",
        "        y_true.append(y_true1)\n",
        "        y_pred.append(y_pred1)\n",
        "    y_true = [int(x) for x in y_true]\n",
        "    y_pred = [int(x) for x in y_pred]\n",
        "\n",
        "    conf_mat  = confusion_matrix(y_true, y_pred, labels=list(range(args['num_classes'])))\n",
        "    pkl.dump(conf_mat, open(os.path.join(args['output_dir'], 'conf_mat.pkl'), 'wb'))\n",
        "\n",
        "    cm = np.zeros((args['num_classes'], args['num_classes']))\n",
        "    cm += pkl.load(open(os.path.join(args['output_dir'], 'conf_mat.pkl'), 'rb'))\n",
        "\n",
        "    mat = cm\n",
        "    TP = 0\n",
        "    FP = 0\n",
        "    FN = 0\n",
        "    per_class = {}\n",
        "    for j in range(mat.shape[0]):\n",
        "        d = {}\n",
        "        tp = np.sum(mat[j, j])\n",
        "        fp = np.sum(mat[:, j]) - tp\n",
        "        fn = np.sum(mat[j, :]) - tp\n",
        "\n",
        "        d['IoU'] = tp / (tp + fp + fn)\n",
        "        d['Precision'] = tp / (tp + fp)\n",
        "        d['Recall'] = tp / (tp + fn)\n",
        "        d['F1-score'] = 2 * tp / (2 * tp + fp + fn)\n",
        "\n",
        "        per_class[str(j)] = d\n",
        "\n",
        "        TP += tp\n",
        "        FP += fp\n",
        "        FN += fn\n",
        "\n",
        "    overall = {}\n",
        "    overall['micro_IoU'] = TP / (TP + FP + FN)\n",
        "    overall['micro_Precision'] = TP / (TP + FP)\n",
        "    overall['micro_Recall'] = TP / (TP + FN)\n",
        "    overall['micro_F1-score'] = 2 * TP / (2 * TP + FP + FN)\n",
        "\n",
        "    macro = pd.DataFrame(per_class).transpose().mean()\n",
        "    overall['MACRO_IoU'] = macro.loc['IoU']\n",
        "    overall['MACRO_Precision'] = macro.loc['Precision']\n",
        "    overall['MACRO_Recall'] = macro.loc['Recall']\n",
        "    overall['MACRO_F1-score'] = macro.loc['F1-score']\n",
        "\n",
        "    overall['Accuracy'] = np.sum(np.diag(mat)) / np.sum(mat)\n",
        "\n",
        "    with open(os.path.join(args['output_dir'], 'overall.json'), 'w') as file:\n",
        "        file.write(json.dumps(overall, indent=4))\n",
        "\n",
        "    disp = ConfusionMatrixDisplay(confusion_matrix=mat)\n",
        "    disp.plot()\n",
        "    plt.show()\n",
        "    \n",
        "def main(args):\n",
        "    print('Preparation . . . ')\n",
        "    model, loader = prepare_model_and_loader(args)\n",
        "    print('Inference . . .')\n",
        "    predict(model, loader, args)\n",
        "    print('Results stored in directory {}'.format(args['output_dir']))\n",
        "    overall_performance(args)\n"
      ]
    },
    {
      "cell_type": "code",
      "execution_count": 4,
      "metadata": {},
      "outputs": [],
      "source": [
        "if __name__ == '__main__':\n",
        "\n",
        "    parser = argparse.ArgumentParser()\n",
        "\n",
        "    # /home/mhbokaei/shakouri/test/Satellite/dataset_folder100\n",
        "    # /home/mhbokaei/shakouri/test/Satellite/dataset_folder10000\n",
        "    # /home/mhbokaei/shakouri/test/Satellite/dataset_folder90000\n",
        "    # /home/mhbokaei/shakouri/SatelliteImage_TimeSeries_Classification/dataset_folder\n",
        "    \n",
        "    # Set-up parameters\n",
        "    parser.add_argument('--dataset_folder', default='/home/mhbokaei/shakouri/test/Satellite/dataset_folder100', type=str,\n",
        "                        help='Path to the Test Folder.')\n",
        "    parser.add_argument('--weight_dir', default='/home/mhbokaei/shakouri/test/Satellite/results_10000', type=str,\n",
        "                        help='Path to the folder containing the model weights')\n",
        "    parser.add_argument('--fold', default='all', type=str,\n",
        "                        help='Specify whether to load the weight sets of al folds (all) or '\n",
        "                             'only load the weight of a specific fold by indicating its number')\n",
        "    parser.add_argument('--output_dir', default='./output',\n",
        "                        help='Path to the folder where the predictions should be stored')\n",
        "    parser.add_argument('--num_workers', default=8, type=int, help='Number of data loading workers')\n",
        "    parser.add_argument('--device', default='cuda', type=str,\n",
        "                        help='Name of device to use for tensor computations (cuda/cpu)')\n",
        "\n",
        "    # Dataset parameters\n",
        "    parser.add_argument('--batch_size', default=20, type=int, help='Batch size')\n",
        "    parser.add_argument('--npixel', default=10, type=int, help='Number of pixels to sample from the input images')\n",
        "\n",
        "    # Architecture Hyperparameters\n",
        "    ## PSE\n",
        "    parser.add_argument('--input_dim', default=10, type=int, help='Number of channels of input images')\n",
        "    parser.add_argument('--mlp1', default='[10,32,64]', type=str, help='Number of neurons in the layers of MLP1')\n",
        "    parser.add_argument('--pooling', default='mean_std', type=str, help='Pixel-embeddings pooling strategy')\n",
        "    parser.add_argument('--mlp2', default='[132,128]', type=str, help='Number of neurons in the layers of MLP2')\n",
        "    parser.add_argument('--geomfeat', default=1, type=int,\n",
        "                        help='If 1 the precomputed geometrical features (f) are used in the PSE.')\n",
        "\n",
        "    ## TAE\n",
        "    parser.add_argument('--n_head', default=4, type=int, help='Number of attention heads')\n",
        "    parser.add_argument('--d_k', default=32, type=int, help='Dimension of the key and query vectors')\n",
        "    parser.add_argument('--mlp3', default='[512,128,128]', type=str, help='Number of neurons in the layers of MLP3')\n",
        "    parser.add_argument('--T', default=1000, type=int, help='Maximum period for the positional encoding')\n",
        "    parser.add_argument('--positions', default='bespoke', type=str,\n",
        "                        help='Positions to use for the positional encoding (bespoke / order)')\n",
        "    parser.add_argument('--lms', default=None, type=int,\n",
        "                        help='Maximum sequence length for positional encoding (only necessary if positions == order)')\n",
        "    parser.add_argument('--dropout', default=0.2, type=float, help='Dropout probability')\n",
        "\n",
        "    ## Classifier\n",
        "    parser.add_argument('--num_classes', default=19, type=int, help='Number of classes')\n",
        "    parser.add_argument('--mlp4', default='[128, 64, 32, 19]', type=str, help='Number of neurons in the layers of MLP4')"
      ]
    },
    {
      "cell_type": "code",
      "execution_count": 5,
      "metadata": {
        "colab": {
          "base_uri": "https://localhost:8080/"
        },
        "id": "XcR-4SkvsCSJ",
        "metadata": {},
        "outputId": "cb32d98d-f261-401a-8eb7-d483a6e12bc2"
      },
      "outputs": [
        {
          "name": "stdout",
          "output_type": "stream",
          "text": [
            "{'T': 1000,\n",
            " 'batch_size': 20,\n",
            " 'd_k': 32,\n",
            " 'dataset_folder': '/home/mhbokaei/shakouri/test/Satellite/dataset_folder100',\n",
            " 'device': 'cuda',\n",
            " 'dropout': 0.2,\n",
            " 'fold': 'all',\n",
            " 'geomfeat': 1,\n",
            " 'input_dim': 10,\n",
            " 'lms': None,\n",
            " 'mlp1': [10, 32, 64],\n",
            " 'mlp2': [132, 128],\n",
            " 'mlp3': [512, 128, 128],\n",
            " 'mlp4': [128, 64, 32, 19],\n",
            " 'n_head': 4,\n",
            " 'npixel': 10,\n",
            " 'num_classes': 19,\n",
            " 'num_workers': 8,\n",
            " 'output_dir': './output',\n",
            " 'pooling': 'mean_std',\n",
            " 'positions': 'bespoke',\n",
            " 'weight_dir': '/home/mhbokaei/shakouri/test/Satellite/results_10000'}\n",
            "Preparation . . . \n",
            "Loading pre-trained models . . .\n",
            "Successfully loaded 5 model instances\n",
            "Inference . . .\n"
          ]
        },
        {
          "name": "stderr",
          "output_type": "stream",
          "text": [
            "100%|██████████| 5/5 [00:01<00:00,  3.76it/s]\n",
            "/tmp/ipykernel_609483/3366397707.py:86: RuntimeWarning: invalid value encountered in double_scalars\n",
            "  d['IoU'] = tp / (tp + fp + fn)\n",
            "/tmp/ipykernel_609483/3366397707.py:87: RuntimeWarning: invalid value encountered in double_scalars\n",
            "  d['Precision'] = tp / (tp + fp)\n",
            "/tmp/ipykernel_609483/3366397707.py:88: RuntimeWarning: invalid value encountered in double_scalars\n",
            "  d['Recall'] = tp / (tp + fn)\n",
            "/tmp/ipykernel_609483/3366397707.py:89: RuntimeWarning: invalid value encountered in double_scalars\n",
            "  d['F1-score'] = 2 * tp / (2 * tp + fp + fn)\n"
          ]
        },
        {
          "name": "stdout",
          "output_type": "stream",
          "text": [
            "Results stored in directory ./output\n"
          ]
        },
        {
          "data": {
            "image/png": "[encoded data removed]",
            "text/plain": [
              "<Figure size 640x480 with 2 Axes>"
            ]
          },
          "metadata": {},
          "output_type": "display_data"
        }
      ],
      "source": [
        "args= parser.parse_args(args=[])\n",
        "args= vars(args)\n",
        "for k, v in args.items():\n",
        "        if 'mlp' in k:\n",
        "            v = v.replace('[', '')\n",
        "            v = v.replace(']', '')\n",
        "            args[k] = list(map(int, v.split(',')))\n",
        "\n",
        "pprint.pprint(args)\n",
        "main(args)"
      ]
    }
  ],
  "metadata": {
    "accelerator": "GPU",
    "colab": {
      "gpuType": "T4",
      "provenance": []
    },
    "kernelspec": {
      "display_name": "Python 3",
      "name": "python3"
    },
    "language_info": {
      "codemirror_mode": {
        "name": "ipython",
        "version": 3
      },
      "file_extension": ".py",
      "mimetype": "text/x-python",
      "name": "python",
      "nbconvert_exporter": "python",
      "pygments_lexer": "ipython3",
      "version": "3.8.10"
    }
  },
  "nbformat": 4,
  "nbformat_minor": 0
}
